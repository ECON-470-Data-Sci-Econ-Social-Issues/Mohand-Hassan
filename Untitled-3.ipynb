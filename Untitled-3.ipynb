{
 "cells": [
  {
   "cell_type": "code",
   "execution_count": 2,
   "metadata": {},
   "outputs": [
    {
     "name": "stderr",
     "output_type": "stream",
     "text": [
      "C:\\Users\\mazhe\\AppData\\Local\\Temp\\ipykernel_23944\\2281035079.py:2: DeprecationWarning: \n",
      "Pyarrow will become a required dependency of pandas in the next major release of pandas (pandas 3.0),\n",
      "(to allow more performant data types, such as the Arrow string type, and better interoperability with other libraries)\n",
      "but was not found to be installed on your system.\n",
      "If this would cause problems for you,\n",
      "please provide us feedback at https://github.com/pandas-dev/pandas/issues/54466\n",
      "        \n",
      "  import pandas as pd\n"
     ]
    },
    {
     "ename": "KeyError",
     "evalue": "'Vote Share Left'",
     "output_type": "error",
     "traceback": [
      "\u001b[1;31m---------------------------------------------------------------------------\u001b[0m",
      "\u001b[1;31mKeyError\u001b[0m                                  Traceback (most recent call last)",
      "Cell \u001b[1;32mIn[2], line 12\u001b[0m\n\u001b[0;32m      9\u001b[0m cutoff \u001b[38;5;241m=\u001b[39m \u001b[38;5;241m50\u001b[39m\n\u001b[0;32m     11\u001b[0m \u001b[38;5;66;03m# Prepare data for RDD analysis\u001b[39;00m\n\u001b[1;32m---> 12\u001b[0m combined_data[\u001b[38;5;124m'\u001b[39m\u001b[38;5;124mControl\u001b[39m\u001b[38;5;124m'\u001b[39m] \u001b[38;5;241m=\u001b[39m (\u001b[43mcombined_data\u001b[49m\u001b[43m[\u001b[49m\u001b[38;5;124;43m'\u001b[39;49m\u001b[38;5;124;43mVote Share Left\u001b[39;49m\u001b[38;5;124;43m'\u001b[39;49m\u001b[43m]\u001b[49m \u001b[38;5;241m>\u001b[39m\u001b[38;5;241m=\u001b[39m cutoff)\u001b[38;5;241m.\u001b[39mastype(\u001b[38;5;28mint\u001b[39m)  \u001b[38;5;66;03m# 1 if left-wing control, 0 otherwise\u001b[39;00m\n\u001b[0;32m     13\u001b[0m combined_data[\u001b[38;5;124m'\u001b[39m\u001b[38;5;124mVote Share Left - Cutoff\u001b[39m\u001b[38;5;124m'\u001b[39m] \u001b[38;5;241m=\u001b[39m combined_data[\u001b[38;5;124m'\u001b[39m\u001b[38;5;124mVote Share Left\u001b[39m\u001b[38;5;124m'\u001b[39m] \u001b[38;5;241m-\u001b[39m cutoff\n\u001b[0;32m     15\u001b[0m \u001b[38;5;66;03m# Fit linear regression models on either side of the cutoff\u001b[39;00m\n",
      "File \u001b[1;32mc:\\Users\\mazhe\\AppData\\Local\\Programs\\Python\\Python312\\Lib\\site-packages\\pandas\\core\\frame.py:4090\u001b[0m, in \u001b[0;36mDataFrame.__getitem__\u001b[1;34m(self, key)\u001b[0m\n\u001b[0;32m   4088\u001b[0m \u001b[38;5;28;01mif\u001b[39;00m \u001b[38;5;28mself\u001b[39m\u001b[38;5;241m.\u001b[39mcolumns\u001b[38;5;241m.\u001b[39mnlevels \u001b[38;5;241m>\u001b[39m \u001b[38;5;241m1\u001b[39m:\n\u001b[0;32m   4089\u001b[0m     \u001b[38;5;28;01mreturn\u001b[39;00m \u001b[38;5;28mself\u001b[39m\u001b[38;5;241m.\u001b[39m_getitem_multilevel(key)\n\u001b[1;32m-> 4090\u001b[0m indexer \u001b[38;5;241m=\u001b[39m \u001b[38;5;28;43mself\u001b[39;49m\u001b[38;5;241;43m.\u001b[39;49m\u001b[43mcolumns\u001b[49m\u001b[38;5;241;43m.\u001b[39;49m\u001b[43mget_loc\u001b[49m\u001b[43m(\u001b[49m\u001b[43mkey\u001b[49m\u001b[43m)\u001b[49m\n\u001b[0;32m   4091\u001b[0m \u001b[38;5;28;01mif\u001b[39;00m is_integer(indexer):\n\u001b[0;32m   4092\u001b[0m     indexer \u001b[38;5;241m=\u001b[39m [indexer]\n",
      "File \u001b[1;32mc:\\Users\\mazhe\\AppData\\Local\\Programs\\Python\\Python312\\Lib\\site-packages\\pandas\\core\\indexes\\range.py:417\u001b[0m, in \u001b[0;36mRangeIndex.get_loc\u001b[1;34m(self, key)\u001b[0m\n\u001b[0;32m    415\u001b[0m         \u001b[38;5;28;01mraise\u001b[39;00m \u001b[38;5;167;01mKeyError\u001b[39;00m(key) \u001b[38;5;28;01mfrom\u001b[39;00m \u001b[38;5;21;01merr\u001b[39;00m\n\u001b[0;32m    416\u001b[0m \u001b[38;5;28;01mif\u001b[39;00m \u001b[38;5;28misinstance\u001b[39m(key, Hashable):\n\u001b[1;32m--> 417\u001b[0m     \u001b[38;5;28;01mraise\u001b[39;00m \u001b[38;5;167;01mKeyError\u001b[39;00m(key)\n\u001b[0;32m    418\u001b[0m \u001b[38;5;28mself\u001b[39m\u001b[38;5;241m.\u001b[39m_check_indexing_error(key)\n\u001b[0;32m    419\u001b[0m \u001b[38;5;28;01mraise\u001b[39;00m \u001b[38;5;167;01mKeyError\u001b[39;00m(key)\n",
      "\u001b[1;31mKeyError\u001b[0m: 'Vote Share Left'"
     ]
    }
   ],
   "source": [
    "from sklearn.linear_model import LinearRegression\n",
    "import pandas as pd\n",
    "import matplotlib.pyplot as plt\n",
    "\n",
    "# Define the cutoff for left-wing control\n",
    "# Define the combined_data DataFrame\n",
    "combined_data = pd.DataFrame()\n",
    "\n",
    "cutoff = 50\n",
    "\n",
    "# Prepare data for RDD analysis\n",
    "combined_data['Control'] = (combined_data['Vote Share Left'] >= cutoff).astype(int)  # 1 if left-wing control, 0 otherwise\n",
    "combined_data['Vote Share Left - Cutoff'] = combined_data['Vote Share Left'] - cutoff\n",
    "\n",
    "# Fit linear regression models on either side of the cutoff\n",
    "model_left = LinearRegression().fit(\n",
    "    combined_data[combined_data['Vote Share Left'] < cutoff][['Vote Share Left - Cutoff']],\n",
    "    combined_data[combined_data['Vote Share Left'] < cutoff]['Tax Rate (%)']\n",
    ")\n",
    "model_right = LinearRegression().fit(\n",
    "    combined_data[combined_data['Vote Share Left'] >= cutoff][['Vote Share Left - Cutoff']],\n",
    "    combined_data[combined_data['Vote Share Left'] >= cutoff]['Tax Rate (%)']\n",
    ")\n",
    "\n",
    "# Predict tax rates for a smooth line\n",
    "combined_data['Predicted Tax Rate'] = combined_data.apply(\n",
    "    lambda row: model_left.predict([[row['Vote Share Left - Cutoff']]])[0] if row['Vote Share Left'] < cutoff else model_right.predict([[row['Vote Share Left - Cutoff']]])[0],\n",
    "    axis=1\n",
    ")\n",
    "\n",
    "# Plotting\n",
    "plt.figure(figsize=(10, 6))\n",
    "plt.scatter(combined_data['Vote Share Left'], combined_data['Tax Rate (%)'], color='black', label='Actual Tax Rate')\n",
    "plt.plot(combined_data['Vote Share Left'], combined_data['Predicted Tax Rate'], color='red', label='Predicted Tax Rate', linestyle='--')\n",
    "plt.axvline(x=cutoff, color='blue', linestyle='-', label='50% Vote Share Cutoff')\n",
    "plt.xlabel('Vote Share Left (%)')\n",
    "plt.ylabel('Tax Rate (%)')\n",
    "plt.title('RDD Analysis: Impact of Political Control on Tax Rates')\n",
    "plt.legend()\n",
    "plt.grid(True)\n",
    "plt.show()\n"
   ]
  }
 ],
 "metadata": {
  "kernelspec": {
   "display_name": "Python 3",
   "language": "python",
   "name": "python3"
  },
  "language_info": {
   "codemirror_mode": {
    "name": "ipython",
    "version": 3
   },
   "file_extension": ".py",
   "mimetype": "text/x-python",
   "name": "python",
   "nbconvert_exporter": "python",
   "pygments_lexer": "ipython3",
   "version": "3.12.1"
  }
 },
 "nbformat": 4,
 "nbformat_minor": 2
}
